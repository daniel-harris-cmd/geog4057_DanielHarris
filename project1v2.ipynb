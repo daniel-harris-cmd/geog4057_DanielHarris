{
 "cells": [
  {
   "cell_type": "code",
   "execution_count": 1,
   "metadata": {},
   "outputs": [],
   "source": [
    "import json\n",
    "with open('no_tax.json','r') as file:\n",
    "    tax_json = json.load(file)"
   ]
  },
  {
   "cell_type": "code",
   "execution_count": 2,
   "metadata": {},
   "outputs": [],
   "source": [
    "import arcpy\n",
    "for row in tax_json['data']:\n",
    "    row[8] = arcpy.FromWKT(row[8])"
   ]
  },
  {
   "cell_type": "code",
   "execution_count": 3,
   "metadata": {},
   "outputs": [],
   "source": [
    "import os\n",
    "fcname = 'notax_fc.shp'\n",
    "workspace = r'C:\\Users\\brdwh\\Documents\\programming 2\\geog4057_DanielHarris\\Project1'\n",
    "fc_fullname = os.path.join(workspace,fcname)\n",
    "if arcpy.Exists(fc_fullname):\n",
    "    arcpy.management.Delete(fc_fullname)"
   ]
  },
  {
   "cell_type": "code",
   "execution_count": 4,
   "metadata": {},
   "outputs": [
    {
     "data": {
      "text/html": [
       "<div class='gpresult'><h2>Messages</h2><div id='messages'>Start Time: Thursday, December 12, 2024 9:33:17 PM<br>Succeeded at Thursday, December 12, 2024 9:33:17 PM (Elapsed Time: 0.19 seconds)<br></div><div id = 'default' /></div></div>"
      ],
      "text/plain": [
       "<Result 'C:\\\\Users\\\\brdwh\\\\Documents\\\\programming 2\\\\geog4057_DanielHarris\\\\Project1\\\\notax_fc.shp'>"
      ]
     },
     "execution_count": 4,
     "metadata": {},
     "output_type": "execute_result"
    }
   ],
   "source": [
    "arcpy.management.CreateFeatureclass(out_path=workspace,out_name=fcname,geometry_type='POLYGON',spatial_reference=4236)"
   ]
  },
  {
   "cell_type": "code",
   "execution_count": null,
   "metadata": {},
   "outputs": [
    {
     "name": "stdout",
     "output_type": "stream",
     "text": [
      "FID\n",
      "Shape\n",
      "Id\n"
     ]
    }
   ],
   "source": []
  },
  {
   "cell_type": "code",
   "execution_count": 10,
   "metadata": {},
   "outputs": [],
   "source": [
    "fields = tax_json['meta']['view']['columns']\n",
    "field_type = ['TEXT','TEXT','LONG','LONG','TEXT','LONG','TEXT','TEXT','TEXT','TEXT','TEXT','TEXT','TEXT']\n",
    "field_names = []\n",
    "for ind,field in enumerate(fields):\n",
    "    name = field['name']\n",
    "    if name == 'the_geom':\n",
    "        continue\n",
    "    if name.lower() == 'id':\n",
    "        name = f'id_{ind}'\n",
    "    max_len = min(10,len(name))\n",
    "    name = name[:max_len]\n",
    "    field_names.append(name)\n",
    "field_names = [field.replace(\" \",\"_\") for field in field_names]\n",
    "field_names = [field.replace(\".\",\"_\") for field in field_names]"
   ]
  },
  {
   "cell_type": "code",
   "execution_count": 8,
   "metadata": {},
   "outputs": [],
   "source": [
    "for ind,field_name in enumerate(field_names):\n",
    "    arcpy.management.AddField(fc_fullname,field_name=field_name,field_type=field_type[ind])\n",
    "field_names.append('SHAPE@')"
   ]
  },
  {
   "cell_type": "code",
   "execution_count": 9,
   "metadata": {},
   "outputs": [],
   "source": [
    "with arcpy.da.InsertCursor(fc_fullname,field_names=field_names) as cursor:\n",
    "    for row in tax_json['data']:\n",
    "        new_row = []\n",
    "        for ind, value in enumerate(row):\n",
    "            if ind == 8:\n",
    "                continue\n",
    "            if value == None:\n",
    "                value = \"\"\n",
    "            new_row.append(value)\n",
    "        new_row.append(row[8])\n",
    "        cursor.insertRow(new_row)"
   ]
  }
 ],
 "metadata": {
  "kernelspec": {
   "display_name": "ArcPyClone",
   "language": "python",
   "name": "python3"
  },
  "language_info": {
   "codemirror_mode": {
    "name": "ipython",
    "version": 3
   },
   "file_extension": ".py",
   "mimetype": "text/x-python",
   "name": "python",
   "nbconvert_exporter": "python",
   "pygments_lexer": "ipython3",
   "version": "3.11.8"
  }
 },
 "nbformat": 4,
 "nbformat_minor": 2
}
